{
 "cells": [
  {
   "cell_type": "markdown",
   "metadata": {},
   "source": [
    "## Importing Libraries:"
   ]
  },
  {
   "cell_type": "code",
   "execution_count": 1,
   "metadata": {},
   "outputs": [],
   "source": [
    "# Importing Libraries: \n",
    "import pandas as pd \n",
    "import sqlite3 "
   ]
  },
  {
   "cell_type": "markdown",
   "metadata": {},
   "source": [
    "## Connecting to the DBs:"
   ]
  },
  {
   "cell_type": "code",
   "execution_count": 2,
   "metadata": {},
   "outputs": [
    {
     "data": {
      "text/html": [
       "<div>\n",
       "<style scoped>\n",
       "    .dataframe tbody tr th:only-of-type {\n",
       "        vertical-align: middle;\n",
       "    }\n",
       "\n",
       "    .dataframe tbody tr th {\n",
       "        vertical-align: top;\n",
       "    }\n",
       "\n",
       "    .dataframe thead th {\n",
       "        text-align: right;\n",
       "    }\n",
       "</style>\n",
       "<table border=\"1\" class=\"dataframe\">\n",
       "  <thead>\n",
       "    <tr style=\"text-align: right;\">\n",
       "      <th></th>\n",
       "      <th>name</th>\n",
       "    </tr>\n",
       "  </thead>\n",
       "  <tbody>\n",
       "    <tr>\n",
       "      <th>0</th>\n",
       "      <td>bevprice</td>\n",
       "    </tr>\n",
       "    <tr>\n",
       "      <th>1</th>\n",
       "      <td>foodprice</td>\n",
       "    </tr>\n",
       "    <tr>\n",
       "      <th>2</th>\n",
       "      <td>zonenumbers</td>\n",
       "    </tr>\n",
       "    <tr>\n",
       "      <th>3</th>\n",
       "      <td>itemnumbers</td>\n",
       "    </tr>\n",
       "  </tbody>\n",
       "</table>\n",
       "</div>"
      ],
      "text/plain": [
       "          name\n",
       "0     bevprice\n",
       "1    foodprice\n",
       "2  zonenumbers\n",
       "3  itemnumbers"
      ]
     },
     "execution_count": 2,
     "metadata": {},
     "output_type": "execute_result"
    }
   ],
   "source": [
    "conn = sqlite3.connect(\"Data Sources/Price_Data.sqlite3\")\n",
    "c = conn.cursor()\n",
    "\n",
    "###\n",
    "c.execute(\"\"\"SELECT name FROM sqlite_master \n",
    "             WHERE \n",
    "             type ='table' AND \n",
    "             name NOT LIKE 'sqlite_%';\"\"\")\n",
    "df = pd.DataFrame(c.fetchall())\n",
    "df.columns = [i[0] for i in c.description]\n",
    "df"
   ]
  },
  {
   "cell_type": "code",
   "execution_count": 3,
   "metadata": {},
   "outputs": [
    {
     "data": {
      "text/html": [
       "<div>\n",
       "<style scoped>\n",
       "    .dataframe tbody tr th:only-of-type {\n",
       "        vertical-align: middle;\n",
       "    }\n",
       "\n",
       "    .dataframe tbody tr th {\n",
       "        vertical-align: top;\n",
       "    }\n",
       "\n",
       "    .dataframe thead th {\n",
       "        text-align: right;\n",
       "    }\n",
       "</style>\n",
       "<table border=\"1\" class=\"dataframe\">\n",
       "  <thead>\n",
       "    <tr style=\"text-align: right;\">\n",
       "      <th></th>\n",
       "      <th>name</th>\n",
       "    </tr>\n",
       "  </thead>\n",
       "  <tbody>\n",
       "    <tr>\n",
       "      <th>0</th>\n",
       "      <td>currentprices</td>\n",
       "    </tr>\n",
       "  </tbody>\n",
       "</table>\n",
       "</div>"
      ],
      "text/plain": [
       "            name\n",
       "0  currentprices"
      ]
     },
     "execution_count": 3,
     "metadata": {},
     "output_type": "execute_result"
    }
   ],
   "source": [
    "# Connecting to the second DB:\n",
    "\n",
    "conn2 = sqlite3.connect(\"Data Sources/Register_Data.sqlite3\")\n",
    "c2 = conn2.cursor()\n",
    "\n",
    "###\n",
    "c2.execute(\"\"\"SELECT name FROM sqlite_master \n",
    "             WHERE \n",
    "             type ='table' AND \n",
    "             name NOT LIKE 'sqlite_%';\"\"\")\n",
    "df = pd.DataFrame(c2.fetchall())\n",
    "df.columns = [i[0] for i in c2.description]\n",
    "df"
   ]
  },
  {
   "cell_type": "code",
   "execution_count": 4,
   "metadata": {},
   "outputs": [
    {
     "data": {
      "text/html": [
       "<div>\n",
       "<style scoped>\n",
       "    .dataframe tbody tr th:only-of-type {\n",
       "        vertical-align: middle;\n",
       "    }\n",
       "\n",
       "    .dataframe tbody tr th {\n",
       "        vertical-align: top;\n",
       "    }\n",
       "\n",
       "    .dataframe thead th {\n",
       "        text-align: right;\n",
       "    }\n",
       "</style>\n",
       "<table border=\"1\" class=\"dataframe\">\n",
       "  <thead>\n",
       "    <tr style=\"text-align: right;\">\n",
       "      <th></th>\n",
       "      <th>ItemZone</th>\n",
       "      <th>ItemNumber</th>\n",
       "      <th>PriceZoneNumber</th>\n",
       "      <th>PriceZoneType</th>\n",
       "      <th>Price</th>\n",
       "    </tr>\n",
       "  </thead>\n",
       "  <tbody>\n",
       "    <tr>\n",
       "      <th>0</th>\n",
       "      <td>123457-2</td>\n",
       "      <td>123457</td>\n",
       "      <td>2</td>\n",
       "      <td>Bev</td>\n",
       "      <td>1.55</td>\n",
       "    </tr>\n",
       "    <tr>\n",
       "      <th>1</th>\n",
       "      <td>123457-4</td>\n",
       "      <td>123457</td>\n",
       "      <td>4</td>\n",
       "      <td>Bev</td>\n",
       "      <td>2.15</td>\n",
       "    </tr>\n",
       "    <tr>\n",
       "      <th>2</th>\n",
       "      <td>123457-14</td>\n",
       "      <td>123457</td>\n",
       "      <td>14</td>\n",
       "      <td>Bev</td>\n",
       "      <td>2.25</td>\n",
       "    </tr>\n",
       "    <tr>\n",
       "      <th>3</th>\n",
       "      <td>123457-16</td>\n",
       "      <td>123457</td>\n",
       "      <td>16</td>\n",
       "      <td>Bev</td>\n",
       "      <td>2.35</td>\n",
       "    </tr>\n",
       "    <tr>\n",
       "      <th>4</th>\n",
       "      <td>123457-17</td>\n",
       "      <td>123457</td>\n",
       "      <td>17</td>\n",
       "      <td>Bev</td>\n",
       "      <td>2.15</td>\n",
       "    </tr>\n",
       "  </tbody>\n",
       "</table>\n",
       "</div>"
      ],
      "text/plain": [
       "    ItemZone  ItemNumber  PriceZoneNumber PriceZoneType  Price\n",
       "0   123457-2      123457                2           Bev   1.55\n",
       "1   123457-4      123457                4           Bev   2.15\n",
       "2  123457-14      123457               14           Bev   2.25\n",
       "3  123457-16      123457               16           Bev   2.35\n",
       "4  123457-17      123457               17           Bev   2.15"
      ]
     },
     "metadata": {},
     "output_type": "display_data"
    },
    {
     "data": {
      "text/plain": [
       "Bev     386205\n",
       "Food    135771\n",
       "Name: PriceZoneType, dtype: int64"
      ]
     },
     "execution_count": 4,
     "metadata": {},
     "output_type": "execute_result"
    }
   ],
   "source": [
    "# Some adjustments to the currentprices sheet to make it easier to use:\n",
    "\n",
    "c2.execute(\"\"\"SELECT ItemNumber || \"-\" || PriceZoneNumber AS ItemZone, *\n",
    "              FROM currentprices\n",
    "              WHERE PriceZoneType = 'Bev'\n",
    "              OR PriceZoneType = 'Food';\"\"\")\n",
    "df_reg = pd.DataFrame(c2.fetchall())\n",
    "df_reg.columns = [i[0] for i in c2.description]\n",
    "# I excluded Merch and Drink as the instructions only call for comparisons between \n",
    "# I added 'Item Zone as a better way to do inner joins on Item Number and Zone Number' when it comes to comparing this table to the Price Database\n",
    "\n",
    "###\n",
    "display(df_reg.head())\n",
    "df_reg.shape\n",
    "df_reg.PriceZoneType.value_counts()\n",
    "# I excluded Merch and Drink as the instructions only call for comparisons between \n",
    "# I added 'Item Zone as a better way to do inner joins on Item Number and Zone Number' when it comes to comparing this table to the Price Database"
   ]
  },
  {
   "cell_type": "code",
   "execution_count": 5,
   "metadata": {},
   "outputs": [],
   "source": [
    "# Adding currentprices to the main db\n",
    "df_reg.to_sql(\"currentprices\", conn, index = False)"
   ]
  },
  {
   "cell_type": "code",
   "execution_count": 6,
   "metadata": {},
   "outputs": [
    {
     "data": {
      "text/html": [
       "<div>\n",
       "<style scoped>\n",
       "    .dataframe tbody tr th:only-of-type {\n",
       "        vertical-align: middle;\n",
       "    }\n",
       "\n",
       "    .dataframe tbody tr th {\n",
       "        vertical-align: top;\n",
       "    }\n",
       "\n",
       "    .dataframe thead th {\n",
       "        text-align: right;\n",
       "    }\n",
       "</style>\n",
       "<table border=\"1\" class=\"dataframe\">\n",
       "  <thead>\n",
       "    <tr style=\"text-align: right;\">\n",
       "      <th></th>\n",
       "      <th>ItemZone</th>\n",
       "      <th>ItemNumber</th>\n",
       "      <th>ZoneName</th>\n",
       "      <th>ZoneNumber</th>\n",
       "      <th>PriceData</th>\n",
       "      <th>FoodOrBev</th>\n",
       "    </tr>\n",
       "  </thead>\n",
       "  <tbody>\n",
       "    <tr>\n",
       "      <th>0</th>\n",
       "      <td>123457-4</td>\n",
       "      <td>000000123457</td>\n",
       "      <td>Store Group 0</td>\n",
       "      <td>4</td>\n",
       "      <td>2.15</td>\n",
       "      <td>Bev</td>\n",
       "    </tr>\n",
       "    <tr>\n",
       "      <th>1</th>\n",
       "      <td>123457-16</td>\n",
       "      <td>000000123457</td>\n",
       "      <td>Store Group 1</td>\n",
       "      <td>16</td>\n",
       "      <td>2.35</td>\n",
       "      <td>Bev</td>\n",
       "    </tr>\n",
       "    <tr>\n",
       "      <th>2</th>\n",
       "      <td>123457-145</td>\n",
       "      <td>000000123457</td>\n",
       "      <td>Store Group 10</td>\n",
       "      <td>145</td>\n",
       "      <td>2.05</td>\n",
       "      <td>Bev</td>\n",
       "    </tr>\n",
       "    <tr>\n",
       "      <th>3</th>\n",
       "      <td>123457-151</td>\n",
       "      <td>000000123457</td>\n",
       "      <td>Store Group 11</td>\n",
       "      <td>151</td>\n",
       "      <td>2.15</td>\n",
       "      <td>Bev</td>\n",
       "    </tr>\n",
       "    <tr>\n",
       "      <th>4</th>\n",
       "      <td>123457-152</td>\n",
       "      <td>000000123457</td>\n",
       "      <td>Store Group 12</td>\n",
       "      <td>152</td>\n",
       "      <td>2.55</td>\n",
       "      <td>Bev</td>\n",
       "    </tr>\n",
       "  </tbody>\n",
       "</table>\n",
       "</div>"
      ],
      "text/plain": [
       "     ItemZone    ItemNumber        ZoneName  ZoneNumber  PriceData FoodOrBev\n",
       "0    123457-4  000000123457   Store Group 0           4       2.15       Bev\n",
       "1   123457-16  000000123457   Store Group 1          16       2.35       Bev\n",
       "2  123457-145  000000123457  Store Group 10         145       2.05       Bev\n",
       "3  123457-151  000000123457  Store Group 11         151       2.15       Bev\n",
       "4  123457-152  000000123457  Store Group 12         152       2.55       Bev"
      ]
     },
     "metadata": {},
     "output_type": "display_data"
    },
    {
     "data": {
      "text/plain": [
       "(189986, 6)"
      ]
     },
     "execution_count": 6,
     "metadata": {},
     "output_type": "execute_result"
    }
   ],
   "source": [
    "# Simplifying the Price DataBase into one 'source of truth' table:\n",
    "# First I'm combining the foodprice and bevprice tables (each joined with zonenumbers for ZoneNumber) so I can do an inner join. . . \n",
    "# . . . with itemnumbers so I can create the same field, ItemZone, as I created in the currentprices table for the joins. . . \n",
    "#. . . necessary for the main tables I'll be creating. It'll act as a key.\n",
    "# The following table has everything needed from the Price DB side of the equation. All that's left is joins with the Register DB.\n",
    "\n",
    "c.execute(\"\"\"WITH foodbev AS (\n",
    "             SELECT f.TierSize, f.FoodZoneName AS ZoneName, \n",
    "             z.ZoneNumber, f.Price\n",
    "             FROM foodprice f\n",
    "             INNER JOIN zonenumbers z\n",
    "             ON f.FoodZoneName = z.ZoneName\n",
    "             \n",
    "             UNION ALL\n",
    "             \n",
    "             SELECT b.TierSize, b.BevZoneName AS ZoneName, z.ZoneNumber, b.Price\n",
    "             FROM bevprice b\n",
    "             INNER JOIN zonenumbers z\n",
    "             ON b.BevZoneName = z.ZoneName)\n",
    "             \n",
    "                 SELECT CAST(i.ItemNumber AS INT) || \"-\" || fb.ZoneNumber AS ItemZone,\n",
    "                 i.ItemNumber, fb.ZoneName, fb.ZoneNumber, fb.Price as PriceData, i.FoodOrBev\n",
    "                 FROM itemnumbers i\n",
    "                 INNER JOIN foodbev fb\n",
    "                 ON i.TierSize = fb.TierSize;\"\"\")\n",
    "df_price_data = pd.DataFrame(c.fetchall())\n",
    "df_price_data.columns = [i[0] for i in c.description]\n",
    "\n",
    "###\n",
    "display(df_price_data.head())\n",
    "df_price_data.shape\n",
    "\n",
    "# I added 'Item Zone here as well for the reasons noted above"
   ]
  },
  {
   "cell_type": "code",
   "execution_count": 7,
   "metadata": {},
   "outputs": [],
   "source": [
    "# Since this is the table I'll be referencing the most, I'll add it to the database\n",
    "# I'm naming it 'pricedata' to stick to naming conventions and indicate that this is the source of truth for the price db\n",
    "df_price_data.to_sql(\"pricedata\", conn, index = False)\n",
    "# Now I have all the necessary tables ready so I can move on to the questions"
   ]
  },
  {
   "cell_type": "markdown",
   "metadata": {},
   "source": [
    "# Q1:\n",
    "“Price_Deltas.csv”: a csv that contains any beverage or food products that have a price mismatch between Price_Data and Register_Data"
   ]
  },
  {
   "cell_type": "code",
   "execution_count": 9,
   "metadata": {},
   "outputs": [
    {
     "data": {
      "text/html": [
       "<div>\n",
       "<style scoped>\n",
       "    .dataframe tbody tr th:only-of-type {\n",
       "        vertical-align: middle;\n",
       "    }\n",
       "\n",
       "    .dataframe tbody tr th {\n",
       "        vertical-align: top;\n",
       "    }\n",
       "\n",
       "    .dataframe thead th {\n",
       "        text-align: right;\n",
       "    }\n",
       "</style>\n",
       "<table border=\"1\" class=\"dataframe\">\n",
       "  <thead>\n",
       "    <tr style=\"text-align: right;\">\n",
       "      <th></th>\n",
       "      <th>ItemNumber</th>\n",
       "      <th>PriceZoneNumber</th>\n",
       "      <th>PriceZoneType</th>\n",
       "      <th>PriceRegister</th>\n",
       "      <th>PriceData</th>\n",
       "      <th>PriceDelta</th>\n",
       "    </tr>\n",
       "  </thead>\n",
       "  <tbody>\n",
       "    <tr>\n",
       "      <th>0</th>\n",
       "      <td>000011132803</td>\n",
       "      <td>4</td>\n",
       "      <td>Bev</td>\n",
       "      <td>2.75</td>\n",
       "      <td>2.95</td>\n",
       "      <td>0.2</td>\n",
       "    </tr>\n",
       "    <tr>\n",
       "      <th>1</th>\n",
       "      <td>000011132803</td>\n",
       "      <td>16</td>\n",
       "      <td>Bev</td>\n",
       "      <td>3.15</td>\n",
       "      <td>3.45</td>\n",
       "      <td>0.3</td>\n",
       "    </tr>\n",
       "    <tr>\n",
       "      <th>2</th>\n",
       "      <td>000011132803</td>\n",
       "      <td>145</td>\n",
       "      <td>Bev</td>\n",
       "      <td>2.75</td>\n",
       "      <td>2.95</td>\n",
       "      <td>0.2</td>\n",
       "    </tr>\n",
       "    <tr>\n",
       "      <th>3</th>\n",
       "      <td>000011132803</td>\n",
       "      <td>151</td>\n",
       "      <td>Bev</td>\n",
       "      <td>2.75</td>\n",
       "      <td>2.95</td>\n",
       "      <td>0.2</td>\n",
       "    </tr>\n",
       "    <tr>\n",
       "      <th>4</th>\n",
       "      <td>000011132803</td>\n",
       "      <td>152</td>\n",
       "      <td>Bev</td>\n",
       "      <td>2.75</td>\n",
       "      <td>3.45</td>\n",
       "      <td>0.7</td>\n",
       "    </tr>\n",
       "  </tbody>\n",
       "</table>\n",
       "</div>"
      ],
      "text/plain": [
       "     ItemNumber  PriceZoneNumber PriceZoneType  PriceRegister  PriceData  \\\n",
       "0  000011132803                4           Bev           2.75       2.95   \n",
       "1  000011132803               16           Bev           3.15       3.45   \n",
       "2  000011132803              145           Bev           2.75       2.95   \n",
       "3  000011132803              151           Bev           2.75       2.95   \n",
       "4  000011132803              152           Bev           2.75       3.45   \n",
       "\n",
       "   PriceDelta  \n",
       "0         0.2  \n",
       "1         0.3  \n",
       "2         0.2  \n",
       "3         0.2  \n",
       "4         0.7  "
      ]
     },
     "metadata": {},
     "output_type": "display_data"
    },
    {
     "data": {
      "text/plain": [
       "(2399, 6)"
      ]
     },
     "execution_count": 9,
     "metadata": {},
     "output_type": "execute_result"
    }
   ],
   "source": [
    "# Table 1:\n",
    "c.execute(\"\"\"SELECT p.ItemNumber, r.PriceZoneNumber, r.PriceZoneType, r.Price AS PriceRegister,\n",
    "             p.PriceData, \n",
    "             ABS(p.PriceData - r.Price) AS PriceDelta\n",
    "             FROM pricedata p\n",
    "             INNER JOIN currentprices r\n",
    "             ON \n",
    "             p.ItemZone = r.ItemZone\n",
    "             WHERE PriceDelta > 0;\"\"\")\n",
    "df1 = pd.DataFrame(c.fetchall())\n",
    "df1.columns = [i[0] for i in c.description]\n",
    "display(df1.head())\n",
    "df1.shape\n",
    "# For this table, I used an inner join so that I'm only looking at rows that contain values in both tables so I can be sure there's a mismatch."
   ]
  },
  {
   "cell_type": "code",
   "execution_count": 11,
   "metadata": {},
   "outputs": [],
   "source": [
    "# CSV:\n",
    "df1.to_csv(r'/Users/Thomas/Desktop/Outputs/CSVs/Price_Deltas.csv', index = False)"
   ]
  },
  {
   "cell_type": "markdown",
   "metadata": {},
   "source": [
    "# Q2:\n",
    "“Missing_From_Price_Data.csv”: a csv that contains any beverage or food products that have a price listed in the Register_Data, but not present in the Price_Data"
   ]
  },
  {
   "cell_type": "code",
   "execution_count": 12,
   "metadata": {},
   "outputs": [
    {
     "data": {
      "text/html": [
       "<div>\n",
       "<style scoped>\n",
       "    .dataframe tbody tr th:only-of-type {\n",
       "        vertical-align: middle;\n",
       "    }\n",
       "\n",
       "    .dataframe tbody tr th {\n",
       "        vertical-align: top;\n",
       "    }\n",
       "\n",
       "    .dataframe thead th {\n",
       "        text-align: right;\n",
       "    }\n",
       "</style>\n",
       "<table border=\"1\" class=\"dataframe\">\n",
       "  <thead>\n",
       "    <tr style=\"text-align: right;\">\n",
       "      <th></th>\n",
       "      <th>ItemNumber</th>\n",
       "      <th>PriceZoneNumber</th>\n",
       "      <th>PriceZoneType</th>\n",
       "      <th>PriceRegister</th>\n",
       "      <th>PriceData</th>\n",
       "      <th>PriceDelta</th>\n",
       "    </tr>\n",
       "  </thead>\n",
       "  <tbody>\n",
       "    <tr>\n",
       "      <th>0</th>\n",
       "      <td>123457</td>\n",
       "      <td>2</td>\n",
       "      <td>Bev</td>\n",
       "      <td>1.55</td>\n",
       "      <td>None</td>\n",
       "      <td>None</td>\n",
       "    </tr>\n",
       "    <tr>\n",
       "      <th>1</th>\n",
       "      <td>123457</td>\n",
       "      <td>14</td>\n",
       "      <td>Bev</td>\n",
       "      <td>2.25</td>\n",
       "      <td>None</td>\n",
       "      <td>None</td>\n",
       "    </tr>\n",
       "    <tr>\n",
       "      <th>2</th>\n",
       "      <td>123457</td>\n",
       "      <td>56</td>\n",
       "      <td>Bev</td>\n",
       "      <td>1.40</td>\n",
       "      <td>None</td>\n",
       "      <td>None</td>\n",
       "    </tr>\n",
       "    <tr>\n",
       "      <th>3</th>\n",
       "      <td>123457</td>\n",
       "      <td>72</td>\n",
       "      <td>Bev</td>\n",
       "      <td>2.05</td>\n",
       "      <td>None</td>\n",
       "      <td>None</td>\n",
       "    </tr>\n",
       "    <tr>\n",
       "      <th>4</th>\n",
       "      <td>123457</td>\n",
       "      <td>77</td>\n",
       "      <td>Bev</td>\n",
       "      <td>1.55</td>\n",
       "      <td>None</td>\n",
       "      <td>None</td>\n",
       "    </tr>\n",
       "  </tbody>\n",
       "</table>\n",
       "</div>"
      ],
      "text/plain": [
       "   ItemNumber  PriceZoneNumber PriceZoneType  PriceRegister PriceData  \\\n",
       "0      123457                2           Bev           1.55      None   \n",
       "1      123457               14           Bev           2.25      None   \n",
       "2      123457               56           Bev           1.40      None   \n",
       "3      123457               72           Bev           2.05      None   \n",
       "4      123457               77           Bev           1.55      None   \n",
       "\n",
       "  PriceDelta  \n",
       "0       None  \n",
       "1       None  \n",
       "2       None  \n",
       "3       None  \n",
       "4       None  "
      ]
     },
     "metadata": {},
     "output_type": "display_data"
    },
    {
     "data": {
      "text/plain": [
       "(345962, 6)"
      ]
     },
     "execution_count": 12,
     "metadata": {},
     "output_type": "execute_result"
    }
   ],
   "source": [
    "# Table 2:\n",
    "\n",
    "c.execute(\"\"\"SELECT r.ItemNumber, r.PriceZoneNumber, r.PriceZoneType, r.Price AS PriceRegister,\n",
    "             p.PriceData, \n",
    "             ABS(p.PriceData - r.Price) AS PriceDelta\n",
    "             FROM currentprices r\n",
    "             LEFT JOIN pricedata p\n",
    "             ON \n",
    "             p.ItemZone = r.ItemZone\n",
    "             WHERE p.PriceData IS NULL;\"\"\")\n",
    "df2 = pd.DataFrame(c.fetchall())\n",
    "df2.columns = [i[0] for i in c.description]\n",
    "display(df2.head())\n",
    "df2.shape\n",
    "# For this second table, I used a left join starting with Register data but specified that I only want rows that have a price missing from the Price DB"
   ]
  },
  {
   "cell_type": "code",
   "execution_count": 13,
   "metadata": {},
   "outputs": [],
   "source": [
    "# CSV:\n",
    "df2.to_csv(r'/Users/Thomas/Desktop/Outputs/CSVs/Missing_From_Price_Data.csv', index = False)"
   ]
  },
  {
   "cell_type": "markdown",
   "metadata": {},
   "source": [
    "# Q3:\n",
    "“Missing_From_Register_Data.csv”: a csv that contains any beverage or food products that have a price listed in the Price_Data, but not present in the Register_Data"
   ]
  },
  {
   "cell_type": "code",
   "execution_count": 14,
   "metadata": {},
   "outputs": [
    {
     "data": {
      "text/html": [
       "<div>\n",
       "<style scoped>\n",
       "    .dataframe tbody tr th:only-of-type {\n",
       "        vertical-align: middle;\n",
       "    }\n",
       "\n",
       "    .dataframe tbody tr th {\n",
       "        vertical-align: top;\n",
       "    }\n",
       "\n",
       "    .dataframe thead th {\n",
       "        text-align: right;\n",
       "    }\n",
       "</style>\n",
       "<table border=\"1\" class=\"dataframe\">\n",
       "  <thead>\n",
       "    <tr style=\"text-align: right;\">\n",
       "      <th></th>\n",
       "      <th>ItemNumber</th>\n",
       "      <th>ZoneNumber</th>\n",
       "      <th>PriceZoneType</th>\n",
       "      <th>PriceRegister</th>\n",
       "      <th>PriceData</th>\n",
       "      <th>PriceDelta</th>\n",
       "    </tr>\n",
       "  </thead>\n",
       "  <tbody>\n",
       "    <tr>\n",
       "      <th>0</th>\n",
       "      <td>000011132803</td>\n",
       "      <td>40</td>\n",
       "      <td>Bev</td>\n",
       "      <td>None</td>\n",
       "      <td>3.45</td>\n",
       "      <td>None</td>\n",
       "    </tr>\n",
       "    <tr>\n",
       "      <th>1</th>\n",
       "      <td>000011243447</td>\n",
       "      <td>44</td>\n",
       "      <td>Food</td>\n",
       "      <td>None</td>\n",
       "      <td>0.75</td>\n",
       "      <td>None</td>\n",
       "    </tr>\n",
       "    <tr>\n",
       "      <th>2</th>\n",
       "      <td>000011243447</td>\n",
       "      <td>9</td>\n",
       "      <td>Food</td>\n",
       "      <td>None</td>\n",
       "      <td>0.75</td>\n",
       "      <td>None</td>\n",
       "    </tr>\n",
       "    <tr>\n",
       "      <th>3</th>\n",
       "      <td>000011243447</td>\n",
       "      <td>11</td>\n",
       "      <td>Food</td>\n",
       "      <td>None</td>\n",
       "      <td>0.75</td>\n",
       "      <td>None</td>\n",
       "    </tr>\n",
       "    <tr>\n",
       "      <th>4</th>\n",
       "      <td>000011243447</td>\n",
       "      <td>12</td>\n",
       "      <td>Food</td>\n",
       "      <td>None</td>\n",
       "      <td>0.75</td>\n",
       "      <td>None</td>\n",
       "    </tr>\n",
       "  </tbody>\n",
       "</table>\n",
       "</div>"
      ],
      "text/plain": [
       "     ItemNumber  ZoneNumber PriceZoneType PriceRegister  PriceData PriceDelta\n",
       "0  000011132803          40           Bev          None       3.45       None\n",
       "1  000011243447          44          Food          None       0.75       None\n",
       "2  000011243447           9          Food          None       0.75       None\n",
       "3  000011243447          11          Food          None       0.75       None\n",
       "4  000011243447          12          Food          None       0.75       None"
      ]
     },
     "metadata": {},
     "output_type": "display_data"
    },
    {
     "data": {
      "text/plain": [
       "(13970, 6)"
      ]
     },
     "execution_count": 14,
     "metadata": {},
     "output_type": "execute_result"
    }
   ],
   "source": [
    "# Table 3:\n",
    "c.execute(\"\"\"SELECT p.ItemNumber, p.ZoneNumber, p.FoodOrBev AS PriceZoneType, \n",
    "             r.Price AS PriceRegister,\n",
    "             p.PriceData, \n",
    "             ABS(p.PriceData - r.Price) AS PriceDelta\n",
    "             FROM pricedata p\n",
    "             LEFT JOIN currentprices r\n",
    "             ON \n",
    "             p.ItemZone = r.ItemZone\n",
    "             WHERE r.Price IS NULL;\"\"\")\n",
    "df3 = pd.DataFrame(c.fetchall())\n",
    "df3.columns = [i[0] for i in c.description]\n",
    "display(df3.head())\n",
    "df3.shape\n",
    "# For the third table, I used a left join starting with Price data but specified that I only want rows that have a price missing from the Register DB"
   ]
  },
  {
   "cell_type": "code",
   "execution_count": 15,
   "metadata": {},
   "outputs": [],
   "source": [
    "# CSV:\n",
    "df3.to_csv(r'/Users/Thomas/Desktop/Outputs/CSVs/Missing_From_Register_Data.csv', index = False)"
   ]
  },
  {
   "cell_type": "markdown",
   "metadata": {},
   "source": [
    "# Audit DB:"
   ]
  },
  {
   "cell_type": "code",
   "execution_count": 16,
   "metadata": {},
   "outputs": [],
   "source": [
    "conn3 = sqlite3.connect(\"Audits.sqlite3\")\n",
    "c3 = conn3.cursor()"
   ]
  },
  {
   "cell_type": "code",
   "execution_count": 17,
   "metadata": {},
   "outputs": [],
   "source": [
    "df1.to_sql(\"Price_Deltas\", conn3, index = False)\n",
    "df2.to_sql(\"Missing_From_Price_Data\", conn3, index = False)\n",
    "df3.to_sql(\"Missing_From_Register_Data\", conn3, index = False)"
   ]
  },
  {
   "cell_type": "code",
   "execution_count": 18,
   "metadata": {},
   "outputs": [
    {
     "data": {
      "text/html": [
       "<div>\n",
       "<style scoped>\n",
       "    .dataframe tbody tr th:only-of-type {\n",
       "        vertical-align: middle;\n",
       "    }\n",
       "\n",
       "    .dataframe tbody tr th {\n",
       "        vertical-align: top;\n",
       "    }\n",
       "\n",
       "    .dataframe thead th {\n",
       "        text-align: right;\n",
       "    }\n",
       "</style>\n",
       "<table border=\"1\" class=\"dataframe\">\n",
       "  <thead>\n",
       "    <tr style=\"text-align: right;\">\n",
       "      <th></th>\n",
       "      <th>name</th>\n",
       "    </tr>\n",
       "  </thead>\n",
       "  <tbody>\n",
       "    <tr>\n",
       "      <th>0</th>\n",
       "      <td>Price_Deltas</td>\n",
       "    </tr>\n",
       "    <tr>\n",
       "      <th>1</th>\n",
       "      <td>Missing_From_Price_Data</td>\n",
       "    </tr>\n",
       "    <tr>\n",
       "      <th>2</th>\n",
       "      <td>Missing_From_Register_Data</td>\n",
       "    </tr>\n",
       "  </tbody>\n",
       "</table>\n",
       "</div>"
      ],
      "text/plain": [
       "                         name\n",
       "0                Price_Deltas\n",
       "1     Missing_From_Price_Data\n",
       "2  Missing_From_Register_Data"
      ]
     },
     "execution_count": 18,
     "metadata": {},
     "output_type": "execute_result"
    }
   ],
   "source": [
    "c3.execute(\"\"\"SELECT name FROM sqlite_master \n",
    "             WHERE \n",
    "             type ='table' AND \n",
    "             name NOT LIKE 'sqlite_%';\"\"\")\n",
    "df = pd.DataFrame(c3.fetchall())\n",
    "df.columns = [i[0] for i in c3.description]\n",
    "df\n",
    "# Looks like it's all there!"
   ]
  },
  {
   "cell_type": "markdown",
   "metadata": {},
   "source": [
    "Thanks for reading!\n",
    "\n",
    "-TB"
   ]
  },
  {
   "cell_type": "code",
   "execution_count": null,
   "metadata": {},
   "outputs": [],
   "source": []
  }
 ],
 "metadata": {
  "kernelspec": {
   "display_name": "Python 3",
   "language": "python",
   "name": "python3"
  },
  "language_info": {
   "codemirror_mode": {
    "name": "ipython",
    "version": 3
   },
   "file_extension": ".py",
   "mimetype": "text/x-python",
   "name": "python",
   "nbconvert_exporter": "python",
   "pygments_lexer": "ipython3",
   "version": "3.7.6"
  },
  "toc": {
   "base_numbering": 1,
   "nav_menu": {},
   "number_sections": true,
   "sideBar": true,
   "skip_h1_title": false,
   "title_cell": "Table of Contents",
   "title_sidebar": "Contents",
   "toc_cell": false,
   "toc_position": {},
   "toc_section_display": true,
   "toc_window_display": true
  }
 },
 "nbformat": 4,
 "nbformat_minor": 4
}
